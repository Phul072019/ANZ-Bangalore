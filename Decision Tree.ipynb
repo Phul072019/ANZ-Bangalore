{
 "cells": [
  {
   "attachments": {},
   "cell_type": "markdown",
   "metadata": {},
   "source": [
    "# Decision Tree\n",
    "Decision Tree algorithm belongs to the family of supervised learning algorithms. Unlike other supervised learning algorithms, decision tree algorithm can be used for solving regression and classification problems too.\n",
    "\n",
    "The general motive of using Decision Tree is to create a training model which can use to predict class or value of target variables by learning decision rules inferred from prior data(training data).\n",
    "\n",
    "Decision Tree Approach \n",
    "\n",
    "The decision tree algorithm tries to solve the problem, by using tree representation. Each internal node of the tree corresponds to an attribute, and each leaf node corresponds to a class label.\n",
    "The primary challenge in the decision tree implementation is to identify which attributes do we need to consider as the root node and each level.\n",
    "\n",
    "Terminology used in decision tree\n",
    "\n",
    "Root Node: \n",
    "It represents entire population or sample and this further gets divided into two or more homogeneous sets.\n",
    "\n",
    "Splitting: \n",
    "It is a process of dividing a node into two or more sub-nodes.\n",
    "\n",
    "Decision Node: \n",
    "When a sub-node splits into further sub-nodes, then it is called decision node.\n",
    "\n",
    "Leaf/ Terminal Node: \n",
    "Nodes with no children (no further split) is called Leaf or Terminal node.\n",
    "\n",
    "Pruning: \n",
    "When we reduce the size of decision trees by removing nodes (opposite of Splitting), the process is called pruning.\n",
    "\n",
    "Branch / Sub-Tree: \n",
    "A sub section of decision tree is called branch or sub-tree.\n",
    "\n",
    "Algorithm used in decision trees:\n",
    "•\tID3\n",
    "•\tGini Index\n",
    "•\tChi-Square\n",
    "•\tReduction in Variance\n",
    "\n",
    ". \n",
    "Creation of Decision Tree:\n",
    "ID3\n",
    "\n",
    "ID3  is a machine learning algorithm or mathematical algorithm for constructing decision tree. \n",
    "It constructs tree in a top down manner without backtracking. \n",
    "It classifies the dataset by using entropy and information gain to select root node for classification. ID3 can make fasted and short decision tree.\n",
    "\n",
    "Important factor \n",
    "\n",
    "Entropy\n",
    "Entropy is used to calculate to find uniform structure in the dataset or similar kind of data to divide dataset into several classes. \n",
    "If resulting class contain similar data, then entropy will be zero and if resulting class equally divide into two datasets then entropy will be one. \n",
    "On the other hand, it measures the impurity of dataset that means higher the entropy value result in more information content. \n",
    "Entropy is used to measure how informative is a node. \n",
    "                 \n",
    "                                 Entropy = \n",
    "\n",
    "Information gain\n",
    "\n",
    "Information Gain is used to measure purity or homogeneity in the dataset. Information gain describes how data can be distributed in respect of response variable. \n",
    "If information gain is high, then that variable is more informative and can be consider for root node. \n",
    "Information gain split the dataset based on an attribute that result in lesser entropy. \n",
    "In decision tree information gain find out the highest information gain attribute which divide the dataset into more homogeneous classes or sub-dataset. \n",
    "\n",
    "Information Gain = Entropy of a Target Variable (Entropy before Split) – Entropy of a Target Variable in Respect to an Input Variable (Entropy after Split) \n"
   ]
  },
  {
   "cell_type": "code",
   "execution_count": 100,
   "metadata": {},
   "outputs": [],
   "source": [
    "import pandas as pd"
   ]
  },
  {
   "cell_type": "code",
   "execution_count": 101,
   "metadata": {},
   "outputs": [],
   "source": [
    "data=pd.read_csv(\"F:\\dataset\\iris.csv\")"
   ]
  },
  {
   "cell_type": "code",
   "execution_count": 102,
   "metadata": {},
   "outputs": [
    {
     "data": {
      "text/plain": [
       "Index(['sepal_length', 'sepal_width', 'petal_length', 'petal_width',\n",
       "       'species'],\n",
       "      dtype='object')"
      ]
     },
     "execution_count": 102,
     "metadata": {},
     "output_type": "execute_result"
    }
   ],
   "source": [
    "data.columns"
   ]
  },
  {
   "cell_type": "code",
   "execution_count": 103,
   "metadata": {},
   "outputs": [],
   "source": [
    "x=data.iloc[:,0:4]"
   ]
  },
  {
   "cell_type": "code",
   "execution_count": 104,
   "metadata": {},
   "outputs": [
    {
     "data": {
      "text/plain": [
       "Index(['sepal_length', 'sepal_width', 'petal_length', 'petal_width'], dtype='object')"
      ]
     },
     "execution_count": 104,
     "metadata": {},
     "output_type": "execute_result"
    }
   ],
   "source": [
    "x.columns"
   ]
  },
  {
   "cell_type": "code",
   "execution_count": 105,
   "metadata": {},
   "outputs": [],
   "source": [
    "y=data[['species']]"
   ]
  },
  {
   "cell_type": "code",
   "execution_count": 106,
   "metadata": {},
   "outputs": [],
   "source": [
    "from sklearn.model_selection import train_test_split\n",
    "xtrain,xtest,ytrain,ytest=train_test_split(x,y,test_size=0.2,random_state=5)"
   ]
  },
  {
   "cell_type": "code",
   "execution_count": 107,
   "metadata": {},
   "outputs": [],
   "source": [
    "from sklearn.tree import DecisionTreeClassifier"
   ]
  },
  {
   "cell_type": "code",
   "execution_count": 108,
   "metadata": {},
   "outputs": [],
   "source": [
    "algo=DecisionTreeClassifier(criterion='entropy',max_depth=4,min_samples_leaf=5)"
   ]
  },
  {
   "cell_type": "code",
   "execution_count": 109,
   "metadata": {},
   "outputs": [
    {
     "data": {
      "text/plain": [
       "DecisionTreeClassifier(class_weight=None, criterion='entropy', max_depth=4,\n",
       "            max_features=None, max_leaf_nodes=None,\n",
       "            min_impurity_decrease=0.0, min_impurity_split=None,\n",
       "            min_samples_leaf=5, min_samples_split=2,\n",
       "            min_weight_fraction_leaf=0.0, presort=False, random_state=None,\n",
       "            splitter='best')"
      ]
     },
     "execution_count": 109,
     "metadata": {},
     "output_type": "execute_result"
    }
   ],
   "source": [
    "algo.fit(xtrain,ytrain)"
   ]
  },
  {
   "cell_type": "raw",
   "metadata": {},
   "source": [
    "Hyperparameter \n",
    "\n",
    "•criterion: It defines the function to measure the quality of a split. Sklearn supports “gini” criteria for Gini Index & “entropy” for Information Gain. By default, it takes “gini” value.\n",
    "\n",
    "•splitter: It defines the strategy to choose the split at each node. Supports “best” value to choose the best split & “random” to choose the best random split. By default, it takes “best” value.\n",
    "\n",
    "•max_features: It defines the no. of features to consider when looking for the best split. We can input integer, float, string & None value.\n",
    "o\tIf an integer is inputted then it considers that value as max features at each split.\n",
    "o\tIf float value is taken then it shows the percentage of features at each split.\n",
    "o\tIf “auto” or “sqrt” is taken then max_features=sqrt(n_features).\n",
    "o\tIf “log2” is taken then max_features= log2(n_features).\n",
    "o\tIf None, then max_features=n_features. By default, it takes “None” value.\n",
    "\n",
    "•max_depth: The max_depth parameter denotes maximum depth of the tree. It can take any integer value or None. If None, then nodes are expanded until all leaves are pure or until all leaves contain less than min_samples_split samples. By default, it takes “None” value.\n",
    "\n",
    "•min_samples_split: This tells above the minimum no. of samples reqd. to split an internal node. If an integer value is taken then consider min_samples_split as the minimum no. If float, then it shows percentage. By default, it takes “2” value.\n",
    "\n",
    "•min_samples_leaf: The minimum number of samples required to be at a leaf node. If an integer value is taken then consider min_samples_leaf as the minimum no. If float, then it shows percentage. By default, it takes “1” value.\n",
    "\n",
    "•max_leaf_nodes: It defines the maximum number of possible leaf nodes. If None then it takes an unlimited number of leaf nodes. By default, it takes “None” value.\n",
    "\n",
    "•min_impurity_split: It defines the threshold for early stopping tree growth. A node will split if its impurity is above the threshold otherwise it is a leaf.\n"
   ]
  },
  {
   "cell_type": "code",
   "execution_count": 110,
   "metadata": {},
   "outputs": [],
   "source": [
    "ypred=algo.predict(xtest)"
   ]
  },
  {
   "cell_type": "code",
   "execution_count": 111,
   "metadata": {},
   "outputs": [],
   "source": [
    "from sklearn.metrics import accuracy_score"
   ]
  },
  {
   "cell_type": "code",
   "execution_count": 112,
   "metadata": {},
   "outputs": [
    {
     "data": {
      "text/plain": [
       "0.9"
      ]
     },
     "execution_count": 112,
     "metadata": {},
     "output_type": "execute_result"
    }
   ],
   "source": [
    "accuracy_score(ytest,ypred)"
   ]
  },
  {
   "cell_type": "code",
   "execution_count": 113,
   "metadata": {},
   "outputs": [],
   "source": [
    "from IPython.display import Image  \n",
    "from sklearn import tree\n",
    "import pydotplus"
   ]
  },
  {
   "cell_type": "code",
   "execution_count": 114,
   "metadata": {},
   "outputs": [
    {
     "data": {
      "image/png": "[encoded data removed]",
      "text/plain": [
       "<IPython.core.display.Image object>"
      ]
     },
     "execution_count": 114,
     "metadata": {},
     "output_type": "execute_result"
    }
   ],
   "source": [
    "# Create DOT data\n",
    "dot_data = tree.export_graphviz(algo, out_file=None, \n",
    "                                )\n",
    "\n",
    "# Draw graph\n",
    "graph = pydotplus.graph_from_dot_data(dot_data)  \n",
    "\n",
    "# Show graph\n",
    "Image(graph.create_png())"
   ]
  },
  {
   "cell_type": "code",
   "execution_count": 115,
   "metadata": {},
   "outputs": [],
   "source": [
    "algo1=DecisionTreeClassifier()\n",
    "param_dist = {\"max_depth\": [2,3,4,5,6,7,8,9],\n",
    "              \"min_samples_leaf\": [2,3,4,6,7,8,9,10,5],\n",
    "              \"criterion\": [\"gini\", \"entropy\"]}\n"
   ]
  },
  {
   "cell_type": "code",
   "execution_count": 116,
   "metadata": {},
   "outputs": [],
   "source": [
    "from sklearn.model_selection import GridSearchCV"
   ]
  },
  {
   "cell_type": "code",
   "execution_count": 119,
   "metadata": {},
   "outputs": [],
   "source": [
    "gr=GridSearchCV(estimator=algo1,param_grid=param_dist,scoring = 'accuracy', cv = 10, n_jobs = -1)"
   ]
  },
  {
   "cell_type": "code",
   "execution_count": 120,
   "metadata": {},
   "outputs": [
    {
     "data": {
      "text/plain": [
       "GridSearchCV(cv=10, error_score='raise',\n",
       "       estimator=DecisionTreeClassifier(class_weight=None, criterion='gini', max_depth=None,\n",
       "            max_features=None, max_leaf_nodes=None,\n",
       "            min_impurity_decrease=0.0, min_impurity_split=None,\n",
       "            min_samples_leaf=1, min_samples_split=2,\n",
       "            min_weight_fraction_leaf=0.0, presort=False, random_state=None,\n",
       "            splitter='best'),\n",
       "       fit_params=None, iid=True, n_jobs=-1,\n",
       "       param_grid={'max_depth': [2, 3, 4, 5, 6, 7, 8, 9], 'min_samples_leaf': [2, 3, 4, 6, 7, 8, 9, 10, 5], 'criterion': ['gini', 'entropy']},\n",
       "       pre_dispatch='2*n_jobs', refit=True, return_train_score='warn',\n",
       "       scoring='accuracy', verbose=0)"
      ]
     },
     "execution_count": 120,
     "metadata": {},
     "output_type": "execute_result"
    }
   ],
   "source": [
    "gr.fit(xtrain,ytrain)"
   ]
  },
  {
   "cell_type": "code",
   "execution_count": 121,
   "metadata": {},
   "outputs": [
    {
     "data": {
      "text/plain": [
       "{'criterion': 'gini', 'max_depth': 2, 'min_samples_leaf': 2}"
      ]
     },
     "execution_count": 121,
     "metadata": {},
     "output_type": "execute_result"
    }
   ],
   "source": [
    "gr.best_params_"
   ]
  },
  {
   "cell_type": "code",
   "execution_count": 122,
   "metadata": {},
   "outputs": [
    {
     "data": {
      "text/plain": [
       "0.9666666666666667"
      ]
     },
     "execution_count": 122,
     "metadata": {},
     "output_type": "execute_result"
    }
   ],
   "source": [
    "gr.best_score_"
   ]
  },
  {
   "cell_type": "code",
   "execution_count": null,
   "metadata": {},
   "outputs": [],
   "source": []
  }
 ],
 "metadata": {
  "kernelspec": {
   "display_name": "Python 3",
   "language": "python",
   "name": "python3"
  },
  "language_info": {
   "codemirror_mode": {
    "name": "ipython",
    "version": 3
   },
   "file_extension": ".py",
   "mimetype": "text/x-python",
   "name": "python",
   "nbconvert_exporter": "python",
   "pygments_lexer": "ipython3",
   "version": "3.6.5"
  }
 },
 "nbformat": 4,
 "nbformat_minor": 2
}
